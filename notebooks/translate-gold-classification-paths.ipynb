{
 "cells": [
  {
   "cell_type": "code",
   "execution_count": 1,
   "metadata": {},
   "outputs": [],
   "source": [
    "import pandas as pds\n",
    "from rdflib import Graph, RDFS, RDF, OWL, URIRef, Literal\n",
    "from hashlib import md5\n",
    "from pandasql import sqldf\n",
    "\n",
    "def pysqldf(q):\n",
    "    return sqldf(q, globals())"
   ]
  },
  {
   "cell_type": "markdown",
   "metadata": {},
   "source": [
    "### Load data from classificaiton paths file `GOLD_Ecosystem_Classification_Paths_10152019.xlsx`"
   ]
  },
  {
   "cell_type": "code",
   "execution_count": 4,
   "metadata": {},
   "outputs": [],
   "source": [
    "pathsdf = pds.read_excel(\"data/GOLD_Ecosystem_Classification_Paths_10152019.xlsx\")"
   ]
  },
  {
   "cell_type": "markdown",
   "metadata": {},
   "source": [
    "### Clean data: \n",
    "* replace with nan with empyt string\n",
    "* make all values lowercase \n",
    "* trim spaces"
   ]
  },
  {
   "cell_type": "code",
   "execution_count": 22,
   "metadata": {},
   "outputs": [
    {
     "data": {
      "text/html": [
       "<div>\n",
       "<style scoped>\n",
       "    .dataframe tbody tr th:only-of-type {\n",
       "        vertical-align: middle;\n",
       "    }\n",
       "\n",
       "    .dataframe tbody tr th {\n",
       "        vertical-align: top;\n",
       "    }\n",
       "\n",
       "    .dataframe thead th {\n",
       "        text-align: right;\n",
       "    }\n",
       "</style>\n",
       "<table border=\"1\" class=\"dataframe\">\n",
       "  <thead>\n",
       "    <tr style=\"text-align: right;\">\n",
       "      <th></th>\n",
       "      <th>ECOSYSTEM</th>\n",
       "      <th>ECOSYSTEM_CATEGORY</th>\n",
       "      <th>ECOSYSTEM_TYPE</th>\n",
       "      <th>ECOSYSTEM_SUBTYPE</th>\n",
       "      <th>SPECIFIC_ECOSYSTEM</th>\n",
       "    </tr>\n",
       "  </thead>\n",
       "  <tbody>\n",
       "    <tr>\n",
       "      <th>0</th>\n",
       "      <td>engineered</td>\n",
       "      <td>bioreactor</td>\n",
       "      <td>aerobic</td>\n",
       "      <td>unclassified</td>\n",
       "      <td>unclassified</td>\n",
       "    </tr>\n",
       "    <tr>\n",
       "      <th>1</th>\n",
       "      <td>engineered</td>\n",
       "      <td>bioreactor</td>\n",
       "      <td>anaerobic</td>\n",
       "      <td>unclassified</td>\n",
       "      <td>unclassified</td>\n",
       "    </tr>\n",
       "    <tr>\n",
       "      <th>2</th>\n",
       "      <td>engineered</td>\n",
       "      <td>bioreactor</td>\n",
       "      <td>continuous culture</td>\n",
       "      <td>marine intertidal flat sediment inoculum</td>\n",
       "      <td>wadden sea-germany</td>\n",
       "    </tr>\n",
       "    <tr>\n",
       "      <th>3</th>\n",
       "      <td>engineered</td>\n",
       "      <td>bioreactor</td>\n",
       "      <td>continuous culture</td>\n",
       "      <td>marine sediment inoculum</td>\n",
       "      <td>wadden sea-germany</td>\n",
       "    </tr>\n",
       "    <tr>\n",
       "      <th>4</th>\n",
       "      <td>engineered</td>\n",
       "      <td>bioreactor</td>\n",
       "      <td>continuous culture</td>\n",
       "      <td>unclassified</td>\n",
       "      <td>unclassified</td>\n",
       "    </tr>\n",
       "  </tbody>\n",
       "</table>\n",
       "</div>"
      ],
      "text/plain": [
       "    ECOSYSTEM ECOSYSTEM_CATEGORY      ECOSYSTEM_TYPE  \\\n",
       "0  engineered         bioreactor             aerobic   \n",
       "1  engineered         bioreactor           anaerobic   \n",
       "2  engineered         bioreactor  continuous culture   \n",
       "3  engineered         bioreactor  continuous culture   \n",
       "4  engineered         bioreactor  continuous culture   \n",
       "\n",
       "                          ECOSYSTEM_SUBTYPE  SPECIFIC_ECOSYSTEM  \n",
       "0                              unclassified        unclassified  \n",
       "1                              unclassified        unclassified  \n",
       "2  marine intertidal flat sediment inoculum  wadden sea-germany  \n",
       "3                  marine sediment inoculum  wadden sea-germany  \n",
       "4                              unclassified        unclassified  "
      ]
     },
     "execution_count": 22,
     "metadata": {},
     "output_type": "execute_result"
    }
   ],
   "source": [
    "pathsdf.fillna(\"\", inplace=True)\n",
    "pathsdf = pathsdf.applymap(lambda x: \"\" if \"(null)\" == x else x)\n",
    "pathsdf = pathsdf.applymap(lambda x: x.lower().strip())    \n",
    "pathsdf.head()"
   ]
  },
  {
   "cell_type": "markdown",
   "metadata": {},
   "source": [
    "## Build dataframe of unique label paths and their checksums\n",
    "#### For example: 'enviromental > aquatic > freshwater > sediment'"
   ]
  },
  {
   "cell_type": "code",
   "execution_count": 23,
   "metadata": {},
   "outputs": [],
   "source": [
    "## helper functions for creating label path, hash, and iri\n",
    "def make_label_path(row, include_missing=False):\n",
    "    path_list = list(row)\n",
    "    temp = [e for e in path_list if e != \"\"] # remove all empty strings\n",
    "    if len(temp) > 0:\n",
    "        if include_missing:\n",
    "            ## if the value in the list an empty string (e.g., ['host-associated', 'plants', 'endosphere', ''])\n",
    "            ## this will put an \" > \" it (e.g., host-associated > plants > endosphere >)\n",
    "            return \" > \".join(path_list)\n",
    "        else:\n",
    "            ## this only retuns a path devoid of empty string\n",
    "            ## e.g, ['host-associated', 'plants', 'endosphere', ''] returns host-associated > plants > endosphere\n",
    "            return \" > \".join(temp)\n",
    "    else:\n",
    "        return \"\"\n",
    "\n",
    "def make_parent_label_path(label_path):\n",
    "    path_list = label_path.split(\" > \")\n",
    "    if len(path_list) > 1:\n",
    "        temp = path_list[0:-1]\n",
    "        return \" > \".join(temp)\n",
    "    else:\n",
    "        return \"\"\n",
    "    \n",
    "def make_hash(val):\n",
    "    if len(val) > 0:\n",
    "        hash = md5(val.encode('utf-8'))\n",
    "        return str(hash.hexdigest())\n",
    "    else:\n",
    "        return \"\"\n",
    "\n",
    "def make_iri(val, prefix=\"http://purl.obolibrary.org/obo/GOLD_\"):\n",
    "    if None != val and len(val) > 0:\n",
    "        hash = make_hash(val)\n",
    "        return f\"{prefix}{hash}\"\n",
    "    else:\n",
    "        return \"\""
   ]
  },
  {
   "cell_type": "code",
   "execution_count": 24,
   "metadata": {},
   "outputs": [],
   "source": [
    "ontdf = pds.DataFrame(columns=['label_path', 'parent_label_path', 'iri', 'parent_iri'])\n",
    "cols = pathsdf.columns\n",
    "\n",
    "for i in range(len(cols)):\n",
    "    df = pathsdf[cols[0:i + 1]].fillna(\"\").drop_duplicates()\n",
    "    df['label_path'] = df.apply(lambda row: make_label_path(row), axis=1)\n",
    "    df['parent_label_path'] = df.apply(lambda row: make_parent_label_path(row['label_path']), axis=1)\n",
    "    df['iri'] = df.apply(lambda row: make_iri(row['label_path']), axis=1)\n",
    "    df['parent_iri'] = df.apply(lambda row: make_iri(row['parent_label_path']), axis=1)\n",
    "    ontdf = ontdf.append(df[['label_path', 'parent_label_path', 'iri', 'parent_iri']]).drop_duplicates()"
   ]
  },
  {
   "cell_type": "code",
   "execution_count": 25,
   "metadata": {},
   "outputs": [],
   "source": [
    "## visually examine output\n",
    "# pds.set_option('max_rows', None)\n",
    "# pds.set_option('display.max_colwidth', 1000)\n",
    "# print(ontdf[['label_path', 'parent_label_path']])\n",
    "# print(len(ontdf))"
   ]
  },
  {
   "cell_type": "markdown",
   "metadata": {},
   "source": [
    "## Use rdflib to build ontology from dataframe"
   ]
  },
  {
   "cell_type": "code",
   "execution_count": 26,
   "metadata": {},
   "outputs": [],
   "source": [
    "g = Graph()\n",
    "\n",
    "for (ix, label_path, parent_label_path, iri, parent_iri) in ontdf.itertuples(): # ontdf.head(100).itertuples():\n",
    "    if len(iri) > 0:\n",
    "        g.add((URIRef(iri), RDF.type, OWL.Class))\n",
    "        g.add((URIRef(iri), RDFS.label, Literal(label_path)))\n",
    "    \n",
    "    if len(parent_iri) > 0:\n",
    "        g.add((URIRef(iri), RDFS.subClassOf, URIRef(parent_iri)))"
   ]
  },
  {
   "cell_type": "code",
   "execution_count": 27,
   "metadata": {},
   "outputs": [],
   "source": [
    "g.serialize(destination='output/gold-classification-paths-translation.owl', format='xml')"
   ]
  },
  {
   "cell_type": "code",
   "execution_count": null,
   "metadata": {},
   "outputs": [],
   "source": []
  }
 ],
 "metadata": {
  "kernelspec": {
   "display_name": "Python 3",
   "language": "python",
   "name": "python3"
  },
  "language_info": {
   "codemirror_mode": {
    "name": "ipython",
    "version": 3
   },
   "file_extension": ".py",
   "mimetype": "text/x-python",
   "name": "python",
   "nbconvert_exporter": "python",
   "pygments_lexer": "ipython3",
   "version": "3.7.3"
  }
 },
 "nbformat": 4,
 "nbformat_minor": 2
}
