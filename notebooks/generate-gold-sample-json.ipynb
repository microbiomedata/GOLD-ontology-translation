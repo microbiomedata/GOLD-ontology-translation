{
 "cells": [
  {
   "cell_type": "code",
   "execution_count": 1,
   "metadata": {},
   "outputs": [],
   "source": [
    "import json\n",
    "import pandas as pds\n",
    "import jsonasobj\n",
    "import lib.nmdc as nmdc\n",
    "import lib.data_operations as dop"
   ]
  },
  {
   "cell_type": "markdown",
   "metadata": {},
   "source": [
    "### Read biosample data into dataframe\n",
    "Steps:\n",
    "- define file name contaning data\n",
    "- define subset of columns to use in the data frame\n",
    "- when testing, define nrows to limit number of rows"
   ]
  },
  {
   "cell_type": "code",
   "execution_count": 2,
   "metadata": {},
   "outputs": [],
   "source": [
    "file_name = \"data/GOLD_DATA_DUMP_PUBLIC_ONLY/BIOSAMPLE_DATA_TABLE.dsv\""
   ]
  },
  {
   "cell_type": "code",
   "execution_count": 3,
   "metadata": {},
   "outputs": [],
   "source": [
    "subset_cols = \\\n",
    "    ['biosample_id',\n",
    "     'biosample_name',\n",
    "     'description',\n",
    "     'add_date',\n",
    "     'mod_date',\n",
    "     'ecosystem_path_id',\n",
    "     'ecosystem',\n",
    "     'ecosystem_category',\n",
    "     'ecosystem_type',\n",
    "     'ecosystem_subtype',\n",
    "     'specific_ecosystem',\n",
    "     'habitat',\n",
    "     'location',\n",
    "     'community',\n",
    "     'ncbi_taxonomy_name',\n",
    "     'geographic_location',\n",
    "     'latitude',\n",
    "     'longitude',\n",
    "     'sample_collection_site',\n",
    "     'identifier',\n",
    "     'sample_collection_year',\n",
    "     'sample_collection_month',\n",
    "     'sample_collection_day',\n",
    "     'sample_collection_hour',\n",
    "     'sample_collection_minute',\n",
    "     'host_name',\n",
    "     'depth',\n",
    "     'subsurface_depth',\n",
    "     'altitude',\n",
    "     'temperature_range',\n",
    "     'temperature_exact',\n",
    "     'proport_woa_temperature',\n",
    "     'biogas_temperature',\n",
    "     'growth_temperature',\n",
    "     'soil_annual_season_temp',\n",
    "     'water_samp_store_temp',\n",
    "     'biogas_retention_time',\n",
    "     'salinity',\n",
    "     'pressure',\n",
    "     'ph',\n",
    "     'chlorophyll_concentration',\n",
    "     'nitrate_concentration',\n",
    "     'oxygen_concentration',\n",
    "     'salinity_concentration'\n",
    "    ]\n"
   ]
  },
  {
   "cell_type": "code",
   "execution_count": 4,
   "metadata": {},
   "outputs": [],
   "source": [
    "nrows = 5 # set to None for all records\n",
    "save_file_name = \"output/schema-test.json\"\n",
    "df = dop.make_dataframe(file_name, subset_cols=subset_cols, nrows=nrows)"
   ]
  },
  {
   "cell_type": "code",
   "execution_count": 5,
   "metadata": {},
   "outputs": [],
   "source": [
    "# df.head() # peek at data"
   ]
  },
  {
   "cell_type": "markdown",
   "metadata": {},
   "source": [
    "### Convert dataframe to dictionary"
   ]
  },
  {
   "cell_type": "code",
   "execution_count": 6,
   "metadata": {},
   "outputs": [],
   "source": [
    "dictdf = df.to_dict(orient=\"records\")"
   ]
  },
  {
   "cell_type": "code",
   "execution_count": 7,
   "metadata": {},
   "outputs": [
    {
     "name": "stdout",
     "output_type": "stream",
     "text": [
      "{\n",
      "    \"biosample_id\": 173480,\n",
      "    \"biosample_name\": \"Wine grape associated microbial communities from Sonoma, California, USA - ED6\",\n",
      "    \"description\": \"Wine grape associated microbial communities from Sonoma, California, USA; sample collected from Cordon section; Wood disease symptoms: Wedge canker, dieback, browning and streaking, Foliar symptoms: Eutypa dieback\",\n",
      "    \"add_date\": \"09-DEC-17 11.15.52.119000000 PM\",\n",
      "    \"mod_date\": \"05-JAN-18 12.58.38.000000000 PM\",\n",
      "    \"ecosystem_path_id\": 4524,\n",
      "    \"ecosystem\": \"Host-associated\",\n",
      "    \"ecosystem_category\": \"Plants\",\n",
      "    \"ecosystem_type\": \"Phyllosphere\",\n",
      "    \"ecosystem_subtype\": \"Caulosphere\",\n",
      "    \"specific_ecosystem\": NaN,\n",
      "    \"habitat\": \"Wine grape associated\",\n",
      "    \"location\": \"from Sonoma, California, USA\",\n",
      "    \"community\": \"microbial communities\",\n",
      "    \"ncbi_taxonomy_name\": \"plant metagenome\",\n",
      "    \"geographic_location\": \"USA: Sonoma, California\",\n",
      "    \"latitude\": 38.2222222,\n",
      "    \"longitude\": 122.35972220000001,\n",
      "    \"sample_collection_site\": \"Cordon section\",\n",
      "    \"identifier\": \"ED6\",\n",
      "    \"sample_collection_year\": 2014,\n",
      "    \"sample_collection_month\": 6,\n",
      "    \"sample_collection_day\": NaN,\n",
      "    \"sample_collection_hour\": NaN,\n",
      "    \"sample_collection_minute\": NaN,\n",
      "    \"host_name\": \"Vitis vinifera\",\n",
      "    \"depth\": NaN,\n",
      "    \"subsurface_depth\": NaN,\n",
      "    \"altitude\": NaN,\n",
      "    \"temperature_range\": NaN,\n",
      "    \"temperature_exact\": NaN,\n",
      "    \"proport_woa_temperature\": NaN,\n",
      "    \"biogas_temperature\": NaN,\n",
      "    \"growth_temperature\": NaN,\n",
      "    \"soil_annual_season_temp\": NaN,\n",
      "    \"water_samp_store_temp\": NaN,\n",
      "    \"biogas_retention_time\": NaN,\n",
      "    \"salinity\": NaN,\n",
      "    \"pressure\": NaN,\n",
      "    \"ph\": NaN,\n",
      "    \"chlorophyll_concentration\": NaN,\n",
      "    \"nitrate_concentration\": NaN,\n",
      "    \"oxygen_concentration\": NaN,\n",
      "    \"salinity_concentration\": NaN\n",
      "}\n"
     ]
    }
   ],
   "source": [
    "## print out a single record for viewing\n",
    "for record in dictdf:\n",
    "    print(json.dumps(record, indent=4)); break"
   ]
  },
  {
   "cell_type": "markdown",
   "metadata": {},
   "source": [
    "### Iterate over dataframe dictionary and build a list of json strings"
   ]
  },
  {
   "cell_type": "code",
   "execution_count": 8,
   "metadata": {},
   "outputs": [],
   "source": [
    "json_list = dop.make_json_string_list(dictdf, nmdc.Biosample, 'biosample_id', 'biosample_name')"
   ]
  },
  {
   "cell_type": "code",
   "execution_count": 11,
   "metadata": {},
   "outputs": [
    {
     "name": "stdout",
     "output_type": "stream",
     "text": [
      "{\n",
      "   \"id\": 173774,\n",
      "   \"name\": \"Fermented milk associated microbial communities from Xilinhot, China - NM19-1\",\n",
      "   \"annotations\": [\n",
      "      {\n",
      "         \"has_raw_value\": 173774,\n",
      "         \"has_characteristic\": {\n",
      "            \"name\": \"biosample_id\"\n",
      "         }\n",
      "      },\n",
      "      {\n",
      "         \"has_raw_value\": \"Fermented milk associated microbial communities from Xilinhot, China - NM19-1\",\n",
      "         \"has_characteristic\": {\n",
      "            \"name\": \"biosample_name\"\n",
      "         }\n",
      "      },\n",
      "      {\n",
      "         \"has_raw_value\": \"Fermented milk (koumiss) associated microbial communities from Xilinhot, China\",\n",
      "         \"has_characteristic\": {\n",
      "            \"name\": \"description\"\n",
      "         }\n",
      "      },\n",
      "      {\n",
      "         \"has_raw_value\": \"09-DEC-17 11.36.30.369000000 PM\",\n",
      "         \"has_characteristic\": {\n",
      "            \"name\": \"add_date\"\n",
      "         }\n",
      "      },\n",
      "      {\n",
      "         \"has_raw_value\": \"05-JAN-18 12.54.38.000000000 PM\",\n",
      "         \"has_characteristic\": {\n",
      "            \"name\": \"mod_date\"\n",
      "         }\n",
      "      },\n",
      "      {\n",
      "         \"has_raw_value\": 3505,\n",
      "         \"has_characteristic\": {\n",
      "            \"name\": \"ecosystem_path_id\"\n",
      "         }\n",
      "      },\n",
      "      {\n",
      "         \"has_raw_value\": \"Engineered\",\n",
      "         \"has_characteristic\": {\n",
      "            \"name\": \"ecosystem\"\n",
      "         }\n",
      "      },\n",
      "      {\n",
      "         \"has_raw_value\": \"Food production\",\n",
      "         \"has_characteristic\": {\n",
      "            \"name\": \"ecosystem_category\"\n",
      "         }\n",
      "      },\n",
      "      {\n",
      "         \"has_raw_value\": \"Dairy products\",\n",
      "         \"has_characteristic\": {\n",
      "            \"name\": \"ecosystem_type\"\n",
      "         }\n",
      "      },\n",
      "      {\n",
      "         \"has_raw_value\": \"Fermented milk associated\",\n",
      "         \"has_characteristic\": {\n",
      "            \"name\": \"habitat\"\n",
      "         }\n",
      "      },\n",
      "      {\n",
      "         \"has_raw_value\": \"from Xilinhot, China\",\n",
      "         \"has_characteristic\": {\n",
      "            \"name\": \"location\"\n",
      "         }\n",
      "      },\n",
      "      {\n",
      "         \"has_raw_value\": \"microbial communities\",\n",
      "         \"has_characteristic\": {\n",
      "            \"name\": \"community\"\n",
      "         }\n",
      "      },\n",
      "      {\n",
      "         \"has_raw_value\": \"food fermentation metagenome\",\n",
      "         \"has_characteristic\": {\n",
      "            \"name\": \"ncbi_taxonomy_name\"\n",
      "         }\n",
      "      },\n",
      "      {\n",
      "         \"has_raw_value\": \"China: Xilinhot\",\n",
      "         \"has_characteristic\": {\n",
      "            \"name\": \"geographic_location\"\n",
      "         }\n",
      "      },\n",
      "      {\n",
      "         \"has_raw_value\": 44.23,\n",
      "         \"has_characteristic\": {\n",
      "            \"name\": \"latitude\"\n",
      "         }\n",
      "      },\n",
      "      {\n",
      "         \"has_raw_value\": 116.39,\n",
      "         \"has_characteristic\": {\n",
      "            \"name\": \"longitude\"\n",
      "         }\n",
      "      },\n",
      "      {\n",
      "         \"has_raw_value\": \"Fermented koumiss\",\n",
      "         \"has_characteristic\": {\n",
      "            \"name\": \"sample_collection_site\"\n",
      "         }\n",
      "      },\n",
      "      {\n",
      "         \"has_raw_value\": \"NM19-1\",\n",
      "         \"has_characteristic\": {\n",
      "            \"name\": \"identifier\"\n",
      "         }\n",
      "      },\n",
      "      {\n",
      "         \"has_raw_value\": 2014,\n",
      "         \"has_characteristic\": {\n",
      "            \"name\": \"sample_collection_year\"\n",
      "         }\n",
      "      },\n",
      "      {\n",
      "         \"has_raw_value\": 7,\n",
      "         \"has_characteristic\": {\n",
      "            \"name\": \"sample_collection_month\"\n",
      "         }\n",
      "      }\n",
      "   ]\n",
      "}\n"
     ]
    }
   ],
   "source": [
    "print(json_list[1]) ## peek at data"
   ]
  },
  {
   "cell_type": "markdown",
   "metadata": {},
   "source": [
    "### Save json list to file"
   ]
  },
  {
   "cell_type": "code",
   "execution_count": 10,
   "metadata": {},
   "outputs": [],
   "source": [
    "dop.save_json_string_list(save_file_name, json_list)"
   ]
  },
  {
   "cell_type": "code",
   "execution_count": null,
   "metadata": {},
   "outputs": [],
   "source": []
  }
 ],
 "metadata": {
  "kernelspec": {
   "display_name": "Python 3",
   "language": "python",
   "name": "python3"
  },
  "language_info": {
   "codemirror_mode": {
    "name": "ipython",
    "version": 3
   },
   "file_extension": ".py",
   "mimetype": "text/x-python",
   "name": "python",
   "nbconvert_exporter": "python",
   "pygments_lexer": "ipython3",
   "version": "3.7.4"
  }
 },
 "nbformat": 4,
 "nbformat_minor": 4
}
