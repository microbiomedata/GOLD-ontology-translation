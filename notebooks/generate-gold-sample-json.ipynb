{
 "cells": [
  {
   "cell_type": "code",
   "execution_count": 5,
   "metadata": {},
   "outputs": [],
   "source": [
    "import json\n",
    "import pandas as pds\n",
    "import jsonasobj\n",
    "import lib.nmdc as nmdc\n",
    "import lib.data_operations as dop"
   ]
  },
  {
   "cell_type": "markdown",
   "metadata": {},
   "source": [
    "### Read biosample data into dataframe\n",
    "Steps:\n",
    "- define file name contaning data\n",
    "- define subset of columns to use in the data frame\n",
    "- when testing, define nrows to limit number of rows"
   ]
  },
  {
   "cell_type": "code",
   "execution_count": 6,
   "metadata": {},
   "outputs": [],
   "source": [
    "file_name = \"data/export.sql/BIOSAMPLE_DATA_TABLE.dsv\""
   ]
  },
  {
   "cell_type": "code",
   "execution_count": 9,
   "metadata": {},
   "outputs": [],
   "source": [
    "subset_cols = \\\n",
    "    ['biosample_id',\n",
    "     'biosample_name',\n",
    "     'description',\n",
    "     'add_date',\n",
    "     'mod_date',\n",
    "     'ecosystem_path_id',\n",
    "     'ecosystem',\n",
    "     'ecosystem_category',\n",
    "     'ecosystem_type',\n",
    "     'ecosystem_subtype',\n",
    "     'specific_ecosystem',\n",
    "     'habitat',\n",
    "     'location',\n",
    "     'community',\n",
    "     'ncbi_taxonomy_name',\n",
    "     'geographic_location',\n",
    "     'latitude',\n",
    "     'longitude',\n",
    "     'sample_collection_site',\n",
    "     'identifier',\n",
    "     'sample_collection_year',\n",
    "     'sample_collection_month',\n",
    "     'sample_collection_day',\n",
    "     'sample_collection_hour',\n",
    "     'sample_collection_minute',\n",
    "     'host_name',\n",
    "     'depth',\n",
    "     'subsurface_depth',\n",
    "     'altitude',\n",
    "     'temperature_range',\n",
    "     'proport_woa_temperature',\n",
    "     'biogas_temperature',\n",
    "     'growth_temperature',\n",
    "     'soil_annual_season_temp',\n",
    "     'water_samp_store_temp',\n",
    "     'biogas_retention_time',\n",
    "     'salinity',\n",
    "     'pressure',\n",
    "     'ph',\n",
    "     'chlorophyll_concentration',\n",
    "     'nitrate_concentration',\n",
    "     'oxygen_concentration',\n",
    "     'salinity_concentration'\n",
    "    ]\n"
   ]
  },
  {
   "cell_type": "code",
   "execution_count": 10,
   "metadata": {},
   "outputs": [],
   "source": [
    "nrows = 5 # set to None for all records\n",
    "save_file_name = \"output/schema-test.json\"\n",
    "df = dop.make_dataframe(file_name, subset_cols=subset_cols, nrows=nrows)"
   ]
  },
  {
   "cell_type": "code",
   "execution_count": 12,
   "metadata": {},
   "outputs": [],
   "source": [
    "# df.head() # peek at data"
   ]
  },
  {
   "cell_type": "markdown",
   "metadata": {},
   "source": [
    "### Convert dataframe to dictionary"
   ]
  },
  {
   "cell_type": "code",
   "execution_count": 13,
   "metadata": {},
   "outputs": [],
   "source": [
    "dictdf = df.to_dict(orient=\"records\")"
   ]
  },
  {
   "cell_type": "code",
   "execution_count": 14,
   "metadata": {},
   "outputs": [
    {
     "name": "stdout",
     "output_type": "stream",
     "text": [
      "{\n",
      "    \"biosample_id\": 186408,\n",
      "    \"biosample_name\": \"Enriched soil aggregate microbial communities from Iowa State University, Ames, United States - MC6-MC0897-MT\",\n",
      "    \"description\": \"Enriched soil aggregate microbial communities from Iowa State University, Ames, United States\",\n",
      "    \"add_date\": \"23-FEB-18 01.10.55.869000000 PM\",\n",
      "    \"mod_date\": \"17-JUN-19 10.32.13.358000000 PM\",\n",
      "    \"ecosystem_path_id\": 4212,\n",
      "    \"ecosystem\": \"Environmental\",\n",
      "    \"ecosystem_category\": \"Terrestrial\",\n",
      "    \"ecosystem_type\": \"Unclassified\",\n",
      "    \"ecosystem_subtype\": NaN,\n",
      "    \"specific_ecosystem\": NaN,\n",
      "    \"habitat\": \"enriched soil aggregate\",\n",
      "    \"location\": \"Iowa State University, Ames, United States\",\n",
      "    \"community\": \"microbial communities\",\n",
      "    \"ncbi_taxonomy_name\": \"soil metagenome\",\n",
      "    \"geographic_location\": \"USA: Iowa\",\n",
      "    \"latitude\": 42.0,\n",
      "    \"longitude\": -93.0,\n",
      "    \"sample_collection_site\": \"soil aggregates\",\n",
      "    \"identifier\": \"MC6-MC0897-MT\",\n",
      "    \"sample_collection_year\": 2016,\n",
      "    \"sample_collection_month\": 10,\n",
      "    \"sample_collection_day\": 10,\n",
      "    \"sample_collection_hour\": NaN,\n",
      "    \"sample_collection_minute\": NaN,\n",
      "    \"host_name\": NaN,\n",
      "    \"depth\": NaN,\n",
      "    \"subsurface_depth\": NaN,\n",
      "    \"altitude\": 285,\n",
      "    \"temperature_range\": NaN,\n",
      "    \"proport_woa_temperature\": NaN,\n",
      "    \"biogas_temperature\": NaN,\n",
      "    \"growth_temperature\": NaN,\n",
      "    \"soil_annual_season_temp\": NaN,\n",
      "    \"water_samp_store_temp\": NaN,\n",
      "    \"biogas_retention_time\": NaN,\n",
      "    \"salinity\": NaN,\n",
      "    \"pressure\": NaN,\n",
      "    \"ph\": NaN,\n",
      "    \"chlorophyll_concentration\": NaN,\n",
      "    \"nitrate_concentration\": NaN,\n",
      "    \"oxygen_concentration\": NaN,\n",
      "    \"salinity_concentration\": NaN\n",
      "}\n"
     ]
    }
   ],
   "source": [
    "## print out a single record for viewing\n",
    "for record in dictdf:\n",
    "    print(json.dumps(record, indent=4)); break"
   ]
  },
  {
   "cell_type": "markdown",
   "metadata": {},
   "source": [
    "### Iterate over dataframe dictionary and build a list of json strings"
   ]
  },
  {
   "cell_type": "code",
   "execution_count": 15,
   "metadata": {},
   "outputs": [],
   "source": [
    "json_list = dop.make_json_string_list(dictdf, nmdc.Biosample, 'biosample_id', 'biosample_name')"
   ]
  },
  {
   "cell_type": "code",
   "execution_count": 16,
   "metadata": {},
   "outputs": [
    {
     "name": "stdout",
     "output_type": "stream",
     "text": [
      "{\n",
      "   \"id\": 186444,\n",
      "   \"name\": \"Enriched soil aggregate microbial communities from Iowa State University, Ames, United States - MC6-MC0941-MT\",\n",
      "   \"annotations\": [\n",
      "      {\n",
      "         \"has_raw_value\": 186444,\n",
      "         \"has_characteristic\": {\n",
      "            \"name\": \"biosample_id\"\n",
      "         }\n",
      "      },\n",
      "      {\n",
      "         \"has_raw_value\": \"Enriched soil aggregate microbial communities from Iowa State University, Ames, United States - MC6-MC0941-MT\",\n",
      "         \"has_characteristic\": {\n",
      "            \"name\": \"biosample_name\"\n",
      "         }\n",
      "      },\n",
      "      {\n",
      "         \"has_raw_value\": \"Enriched soil aggregate microbial communities from Iowa State University, Ames, United States\",\n",
      "         \"has_characteristic\": {\n",
      "            \"name\": \"description\"\n",
      "         }\n",
      "      },\n",
      "      {\n",
      "         \"has_raw_value\": \"23-FEB-18 01.11.30.021000000 PM\",\n",
      "         \"has_characteristic\": {\n",
      "            \"name\": \"add_date\"\n",
      "         }\n",
      "      },\n",
      "      {\n",
      "         \"has_raw_value\": \"30-SEP-19 09.28.26.880000000 PM\",\n",
      "         \"has_characteristic\": {\n",
      "            \"name\": \"mod_date\"\n",
      "         }\n",
      "      },\n",
      "      {\n",
      "         \"has_raw_value\": 4212,\n",
      "         \"has_characteristic\": {\n",
      "            \"name\": \"ecosystem_path_id\"\n",
      "         }\n",
      "      },\n",
      "      {\n",
      "         \"has_raw_value\": \"Environmental\",\n",
      "         \"has_characteristic\": {\n",
      "            \"name\": \"ecosystem\"\n",
      "         }\n",
      "      },\n",
      "      {\n",
      "         \"has_raw_value\": \"Terrestrial\",\n",
      "         \"has_characteristic\": {\n",
      "            \"name\": \"ecosystem_category\"\n",
      "         }\n",
      "      },\n",
      "      {\n",
      "         \"has_raw_value\": \"Soil\",\n",
      "         \"has_characteristic\": {\n",
      "            \"name\": \"ecosystem_type\"\n",
      "         }\n",
      "      },\n",
      "      {\n",
      "         \"has_raw_value\": \"Unclassified\",\n",
      "         \"has_characteristic\": {\n",
      "            \"name\": \"ecosystem_subtype\"\n",
      "         }\n",
      "      },\n",
      "      {\n",
      "         \"has_raw_value\": \"Unclassified\",\n",
      "         \"has_characteristic\": {\n",
      "            \"name\": \"specific_ecosystem\"\n",
      "         }\n",
      "      },\n",
      "      {\n",
      "         \"has_raw_value\": \"enriched soil aggregate\",\n",
      "         \"has_characteristic\": {\n",
      "            \"name\": \"habitat\"\n",
      "         }\n",
      "      },\n",
      "      {\n",
      "         \"has_raw_value\": \"Iowa State University, Ames, United States\",\n",
      "         \"has_characteristic\": {\n",
      "            \"name\": \"location\"\n",
      "         }\n",
      "      },\n",
      "      {\n",
      "         \"has_raw_value\": \"microbial communities\",\n",
      "         \"has_characteristic\": {\n",
      "            \"name\": \"community\"\n",
      "         }\n",
      "      },\n",
      "      {\n",
      "         \"has_raw_value\": \"soil metagenome\",\n",
      "         \"has_characteristic\": {\n",
      "            \"name\": \"ncbi_taxonomy_name\"\n",
      "         }\n",
      "      },\n",
      "      {\n",
      "         \"has_raw_value\": \"USA: Iowa\",\n",
      "         \"has_characteristic\": {\n",
      "            \"name\": \"geographic_location\"\n",
      "         }\n",
      "      },\n",
      "      {\n",
      "         \"has_raw_value\": 42.0,\n",
      "         \"has_characteristic\": {\n",
      "            \"name\": \"latitude\"\n",
      "         }\n",
      "      },\n",
      "      {\n",
      "         \"has_raw_value\": -93.0,\n",
      "         \"has_characteristic\": {\n",
      "            \"name\": \"longitude\"\n",
      "         }\n",
      "      },\n",
      "      {\n",
      "         \"has_raw_value\": \"soil aggregates\",\n",
      "         \"has_characteristic\": {\n",
      "            \"name\": \"sample_collection_site\"\n",
      "         }\n",
      "      },\n",
      "      {\n",
      "         \"has_raw_value\": \"MC6-MC0941-MT\",\n",
      "         \"has_characteristic\": {\n",
      "            \"name\": \"identifier\"\n",
      "         }\n",
      "      },\n",
      "      {\n",
      "         \"has_raw_value\": 2016,\n",
      "         \"has_characteristic\": {\n",
      "            \"name\": \"sample_collection_year\"\n",
      "         }\n",
      "      },\n",
      "      {\n",
      "         \"has_raw_value\": 10,\n",
      "         \"has_characteristic\": {\n",
      "            \"name\": \"sample_collection_month\"\n",
      "         }\n",
      "      },\n",
      "      {\n",
      "         \"has_raw_value\": 10,\n",
      "         \"has_characteristic\": {\n",
      "            \"name\": \"sample_collection_day\"\n",
      "         }\n",
      "      },\n",
      "      {\n",
      "         \"has_raw_value\": 285,\n",
      "         \"has_characteristic\": {\n",
      "            \"name\": \"altitude\"\n",
      "         }\n",
      "      }\n",
      "   ]\n",
      "}\n"
     ]
    }
   ],
   "source": [
    "print(json_list[1]) ## peek at data"
   ]
  },
  {
   "cell_type": "markdown",
   "metadata": {},
   "source": [
    "### Save json list to file"
   ]
  },
  {
   "cell_type": "code",
   "execution_count": 17,
   "metadata": {},
   "outputs": [],
   "source": [
    "dop.save_json_string_list(save_file_name, json_list)"
   ]
  },
  {
   "cell_type": "code",
   "execution_count": null,
   "metadata": {},
   "outputs": [],
   "source": []
  }
 ],
 "metadata": {
  "kernelspec": {
   "display_name": "Python 3",
   "language": "python",
   "name": "python3"
  },
  "language_info": {
   "codemirror_mode": {
    "name": "ipython",
    "version": 3
   },
   "file_extension": ".py",
   "mimetype": "text/x-python",
   "name": "python",
   "nbconvert_exporter": "python",
   "pygments_lexer": "ipython3",
   "version": "3.7.4"
  }
 },
 "nbformat": 4,
 "nbformat_minor": 4
}
