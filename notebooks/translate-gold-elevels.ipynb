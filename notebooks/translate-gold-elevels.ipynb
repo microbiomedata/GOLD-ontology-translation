{
 "cells": [
  {
   "cell_type": "code",
   "execution_count": 15,
   "metadata": {},
   "outputs": [],
   "source": [
    "import pandas as pds\n",
    "import json\n",
    "from rdflib import Graph, RDFS, RDF, OWL, URIRef, Literal\n",
    "from hashlib import md5\n",
    "from pandasql import sqldf\n",
    "\n",
    "def pysqldf(q):\n",
    "    return sqldf(q, globals())"
   ]
  },
  {
   "cell_type": "markdown",
   "metadata": {},
   "source": [
    "## Build dataframe containing enviromental level data values"
   ]
  },
  {
   "cell_type": "code",
   "execution_count": 2,
   "metadata": {},
   "outputs": [
    {
     "name": "stderr",
     "output_type": "stream",
     "text": [
      "/usr/local/anaconda3/lib/python3.7/site-packages/IPython/core/interactiveshell.py:3049: DtypeWarning: Columns (13,14,16,18,19,23,26,27,28,29,30,34,35,36,37,39,41,42,43,44,45,52,57,62,70,72,73,76,77,78,79,86,98,99,100,103,104,105,106,111,119,124,133,134,135,142,144,146,149,165,191,208,229,233,252,253,254) have mixed types. Specify dtype option on import or set low_memory=False.\n",
      "  interactivity=interactivity, compiler=compiler, result=result)\n"
     ]
    }
   ],
   "source": [
    "all_data_df = pds.read_csv(\"data/Biosample_all.tsv.gz\", sep=\"\\t\")"
   ]
  },
  {
   "cell_type": "code",
   "execution_count": 3,
   "metadata": {},
   "outputs": [],
   "source": [
    "elevels = ['ECOSYSTEM', 'ECOSYSTEM_CATEGORY', 'ECOSYSTEM_TYPE', 'ECOSYSTEM_SUBTYPE', 'SPECIFIC_ECOSYSTEM']\n",
    "elevelsdf = all_data_df[elevels]"
   ]
  },
  {
   "cell_type": "markdown",
   "metadata": {},
   "source": [
    "### clean data: \n",
    "* replace with nan with empyt string\n",
    "* make all values lowercase \n",
    "* trim spaces"
   ]
  },
  {
   "cell_type": "code",
   "execution_count": 4,
   "metadata": {},
   "outputs": [
    {
     "name": "stderr",
     "output_type": "stream",
     "text": [
      "/usr/local/anaconda3/lib/python3.7/site-packages/pandas/core/frame.py:4034: SettingWithCopyWarning: \n",
      "A value is trying to be set on a copy of a slice from a DataFrame\n",
      "\n",
      "See the caveats in the documentation: http://pandas.pydata.org/pandas-docs/stable/indexing.html#indexing-view-versus-copy\n",
      "  downcast=downcast, **kwargs)\n"
     ]
    },
    {
     "data": {
      "text/html": [
       "<div>\n",
       "<style scoped>\n",
       "    .dataframe tbody tr th:only-of-type {\n",
       "        vertical-align: middle;\n",
       "    }\n",
       "\n",
       "    .dataframe tbody tr th {\n",
       "        vertical-align: top;\n",
       "    }\n",
       "\n",
       "    .dataframe thead th {\n",
       "        text-align: right;\n",
       "    }\n",
       "</style>\n",
       "<table border=\"1\" class=\"dataframe\">\n",
       "  <thead>\n",
       "    <tr style=\"text-align: right;\">\n",
       "      <th></th>\n",
       "      <th>ECOSYSTEM</th>\n",
       "      <th>ECOSYSTEM_CATEGORY</th>\n",
       "      <th>ECOSYSTEM_TYPE</th>\n",
       "      <th>ECOSYSTEM_SUBTYPE</th>\n",
       "      <th>SPECIFIC_ECOSYSTEM</th>\n",
       "    </tr>\n",
       "  </thead>\n",
       "  <tbody>\n",
       "    <tr>\n",
       "      <th>0</th>\n",
       "      <td>host-associated</td>\n",
       "      <td>plants</td>\n",
       "      <td>phyllosphere</td>\n",
       "      <td>caulosphere</td>\n",
       "      <td></td>\n",
       "    </tr>\n",
       "    <tr>\n",
       "      <th>1</th>\n",
       "      <td>engineered</td>\n",
       "      <td>food production</td>\n",
       "      <td>dairy products</td>\n",
       "      <td></td>\n",
       "      <td></td>\n",
       "    </tr>\n",
       "    <tr>\n",
       "      <th>2</th>\n",
       "      <td>engineered</td>\n",
       "      <td>food production</td>\n",
       "      <td>dairy products</td>\n",
       "      <td></td>\n",
       "      <td></td>\n",
       "    </tr>\n",
       "    <tr>\n",
       "      <th>3</th>\n",
       "      <td>engineered</td>\n",
       "      <td>food production</td>\n",
       "      <td>dairy products</td>\n",
       "      <td></td>\n",
       "      <td></td>\n",
       "    </tr>\n",
       "    <tr>\n",
       "      <th>4</th>\n",
       "      <td>engineered</td>\n",
       "      <td>food production</td>\n",
       "      <td>dairy products</td>\n",
       "      <td></td>\n",
       "      <td></td>\n",
       "    </tr>\n",
       "  </tbody>\n",
       "</table>\n",
       "</div>"
      ],
      "text/plain": [
       "         ECOSYSTEM ECOSYSTEM_CATEGORY  ECOSYSTEM_TYPE ECOSYSTEM_SUBTYPE  \\\n",
       "0  host-associated             plants    phyllosphere       caulosphere   \n",
       "1       engineered    food production  dairy products                     \n",
       "2       engineered    food production  dairy products                     \n",
       "3       engineered    food production  dairy products                     \n",
       "4       engineered    food production  dairy products                     \n",
       "\n",
       "  SPECIFIC_ECOSYSTEM  \n",
       "0                     \n",
       "1                     \n",
       "2                     \n",
       "3                     \n",
       "4                     "
      ]
     },
     "execution_count": 4,
     "metadata": {},
     "output_type": "execute_result"
    }
   ],
   "source": [
    "elevelsdf.fillna(\"\", inplace=True)\n",
    "elevelsdf = elevelsdf.applymap(lambda x: x.lower().strip())    \n",
    "elevelsdf.head()"
   ]
  },
  {
   "cell_type": "markdown",
   "metadata": {},
   "source": [
    "## Build dataframe of unique label paths and their checksums\n",
    "#### For example: 'enviromental > aquatic > freshwater > sediment'"
   ]
  },
  {
   "cell_type": "code",
   "execution_count": 16,
   "metadata": {},
   "outputs": [],
   "source": [
    "## helper functions for creating label path, hash, and iri\n",
    "def make_label_path(row, include_missing=False):\n",
    "    path_list = list(row)\n",
    "    temp = [e for e in path_list if e != \"\"] # remove all empty strings\n",
    "    if len(temp) > 0:\n",
    "        if include_missing:\n",
    "            ## if the value in the list an empty string (e.g., ['host-associated', 'plants', 'endosphere', ''])\n",
    "            ## this will put an \" > \" it (e.g., host-associated > plants > endosphere >)\n",
    "            return \" > \".join(path_list)\n",
    "        else:\n",
    "            ## this only retuns a path devoid of empty string\n",
    "            ## e.g, ['host-associated', 'plants', 'endosphere', ''] returns host-associated > plants > endosphere\n",
    "            return \" > \".join(temp)\n",
    "    else:\n",
    "        return \"\"\n",
    "\n",
    "    \n",
    "def make_parent_label_path(label_path):\n",
    "    path_list = label_path.split(\" > \")\n",
    "    if len(path_list) > 1:\n",
    "        temp = path_list[0:-1]\n",
    "        return \" > \".join(temp)\n",
    "    else:\n",
    "        return \"\"\n",
    "\n",
    "    \n",
    "def make_hash(val):\n",
    "    if len(val) > 0:\n",
    "        hash = md5(val.encode('utf-8'))\n",
    "        return str(hash.hexdigest())\n",
    "    else:\n",
    "        return \"\"\n",
    "\n",
    "    \n",
    "def make_iri(val, prefix=\"http://purl.obolibrary.org/obo/GOLD_\"):\n",
    "    if None != val and len(val) > 0:\n",
    "        hash = make_hash(val)\n",
    "        return f\"{prefix}{hash}\"\n",
    "    else:\n",
    "        return \"\"\n",
    "    \n",
    "\n",
    "def make_annotation_dict(value_list, prefix=\"http://purl.obolibrary.org/obo/GOLD_\"):\n",
    "    annotation_dict = {}\n",
    "    for val in value_list:\n",
    "        val = str(val).lower().strip()\n",
    "        annotation_dict[val] = \\\n",
    "            {'iri': make_iri(str(val), prefix=prefix), 'label': val}\n",
    "    return annotation_dict\n",
    "\n",
    "\n",
    "def make_json_annotation(row, annotation_dict):\n",
    "    annotation_value_dict = {}\n",
    "    annotation_dict_keys = annotation_dict.keys()\n",
    "    for k,v in row.to_dict().items():\n",
    "        k = str(k).lower().strip()\n",
    "        if v != \"\" and (k in annotation_dict_keys):\n",
    "            annotation_value_dict[annotation_dict[k]['iri']] = v\n",
    "    return json.dumps(annotation_value_dict)"
   ]
  },
  {
   "cell_type": "code",
   "execution_count": 17,
   "metadata": {},
   "outputs": [],
   "source": [
    "ontdf = pds.DataFrame(columns=['label_path', 'parent_label_path', 'iri', 'parent_iri', 'annotation'])\n",
    "annotation_dict = make_annotation_dict(elevels)\n",
    "\n",
    "for i in range(len(elevels)):\n",
    "    df = elevelsdf[elevels[0:i + 1]].fillna(\"\").drop_duplicates()\n",
    "    df['label_path'] = df.apply(lambda row: make_label_path(row), axis=1)\n",
    "    df['parent_label_path'] = df.apply(lambda row: make_parent_label_path(row['label_path']), axis=1)\n",
    "    df['iri'] = df.apply(lambda row: make_iri(row['label_path']), axis=1)\n",
    "    df['parent_iri'] = df.apply(lambda row: make_iri(row['parent_label_path']), axis=1)\n",
    "    df['annotation'] = df.apply(lambda row: make_json_annotation(row, annotation_dict), axis=1)\n",
    "    ontdf = ontdf.append(df[['label_path', 'parent_label_path', 'iri', 'parent_iri', 'annotation']]).drop_duplicates()"
   ]
  },
  {
   "cell_type": "code",
   "execution_count": 18,
   "metadata": {},
   "outputs": [],
   "source": [
    "## visually examine output\n",
    "# pds.set_option('max_rows', None)\n",
    "# pds.set_option('display.max_colwidth', 1000)\n",
    "# print(ontdf[['label_path', 'parent_label_path']])\n",
    "# print(len(ontdf))"
   ]
  },
  {
   "cell_type": "code",
   "execution_count": 19,
   "metadata": {},
   "outputs": [
    {
     "name": "stdout",
     "output_type": "stream",
     "text": [
      "Nuumber of rows: 833\n",
      "Number of iris:  833\n"
     ]
    }
   ],
   "source": [
    "## check that number of unique iris matches the number of rows\n",
    "print(\"Nuumber of rows:\", len(ontdf))\n",
    "print(\"Number of iris: \", len(ontdf.iri.unique()))"
   ]
  },
  {
   "cell_type": "code",
   "execution_count": 20,
   "metadata": {},
   "outputs": [
    {
     "name": "stdout",
     "output_type": "stream",
     "text": [
      "Number of unique parent iris:  400\n",
      "Number of parent iris:  833\n"
     ]
    }
   ],
   "source": [
    "## check the number of unique vs non-unique parent iris\n",
    "## there should be less unique ones; there is a one-to-many relation between parent iris and iris(i.e., parents have many children)\n",
    "print(\"Number of unique parent iris: \", len(ontdf.parent_iri.unique()))\n",
    "print(\"Number of parent iris: \", len(ontdf.parent_iri))"
   ]
  },
  {
   "cell_type": "code",
   "execution_count": 21,
   "metadata": {},
   "outputs": [
    {
     "name": "stdout",
     "output_type": "stream",
     "text": [
      "Number of non-empty iris:  832\n",
      "Number of non-empty label paths:  832\n",
      "Number of non-empty parent iris:  399\n",
      "Number of non-empty parent label paths:  399\n"
     ]
    }
   ],
   "source": [
    "## check that the number of non-empty lable paths matches the number of non-empty iris\n",
    "## there should be one less (see code below which returns one row of empty strings)\n",
    "print(\"Number of non-empty iris: \", len(ontdf[ontdf.iri != ''].iri.unique()))\n",
    "print(\"Number of non-empty label paths: \", len(ontdf[ontdf.label_path != ''].label_path.unique()))\n",
    "\n",
    "print(\"Number of non-empty parent iris: \", len(ontdf[ontdf.parent_iri != ''].parent_iri.unique()))\n",
    "print(\"Number of non-empty parent label paths: \", len(ontdf[ontdf.parent_label_path != ''].parent_label_path.unique()))"
   ]
  },
  {
   "cell_type": "code",
   "execution_count": 22,
   "metadata": {},
   "outputs": [
    {
     "name": "stdout",
     "output_type": "stream",
     "text": [
      "Number of matching iri/parent iri:  1\n"
     ]
    },
    {
     "data": {
      "text/html": [
       "<div>\n",
       "<style scoped>\n",
       "    .dataframe tbody tr th:only-of-type {\n",
       "        vertical-align: middle;\n",
       "    }\n",
       "\n",
       "    .dataframe tbody tr th {\n",
       "        vertical-align: top;\n",
       "    }\n",
       "\n",
       "    .dataframe thead th {\n",
       "        text-align: right;\n",
       "    }\n",
       "</style>\n",
       "<table border=\"1\" class=\"dataframe\">\n",
       "  <thead>\n",
       "    <tr style=\"text-align: right;\">\n",
       "      <th></th>\n",
       "      <th>label_path</th>\n",
       "      <th>parent_label_path</th>\n",
       "      <th>iri</th>\n",
       "      <th>parent_iri</th>\n",
       "      <th>annotation</th>\n",
       "    </tr>\n",
       "  </thead>\n",
       "  <tbody>\n",
       "    <tr>\n",
       "      <th>8786</th>\n",
       "      <td></td>\n",
       "      <td></td>\n",
       "      <td></td>\n",
       "      <td></td>\n",
       "      <td>{}</td>\n",
       "    </tr>\n",
       "  </tbody>\n",
       "</table>\n",
       "</div>"
      ],
      "text/plain": [
       "     label_path parent_label_path iri parent_iri annotation\n",
       "8786                                                     {}"
      ]
     },
     "execution_count": 22,
     "metadata": {},
     "output_type": "execute_result"
    }
   ],
   "source": [
    "## only only records (show above) should have the same parent iri and iri value\n",
    "print(\"Number of matching iri/parent iri: \", len(ontdf[ontdf.iri == ontdf.parent_iri]))\n",
    "ontdf[ontdf.iri == ontdf.parent_iri]"
   ]
  },
  {
   "cell_type": "code",
   "execution_count": 23,
   "metadata": {},
   "outputs": [
    {
     "data": {
      "text/html": [
       "<div>\n",
       "<style scoped>\n",
       "    .dataframe tbody tr th:only-of-type {\n",
       "        vertical-align: middle;\n",
       "    }\n",
       "\n",
       "    .dataframe tbody tr th {\n",
       "        vertical-align: top;\n",
       "    }\n",
       "\n",
       "    .dataframe thead th {\n",
       "        text-align: right;\n",
       "    }\n",
       "</style>\n",
       "<table border=\"1\" class=\"dataframe\">\n",
       "  <thead>\n",
       "    <tr style=\"text-align: right;\">\n",
       "      <th></th>\n",
       "      <th>label_path</th>\n",
       "      <th>parent_label_path</th>\n",
       "      <th>iri</th>\n",
       "      <th>parent_iri</th>\n",
       "      <th>annotation</th>\n",
       "    </tr>\n",
       "  </thead>\n",
       "  <tbody>\n",
       "    <tr>\n",
       "      <th>0</th>\n",
       "      <td>host-associated</td>\n",
       "      <td></td>\n",
       "      <td>http://purl.obolibrary.org/obo/GOLD_daf7fb2e82...</td>\n",
       "      <td></td>\n",
       "      <td>{\"http://purl.obolibrary.org/obo/GOLD_a5f3791a...</td>\n",
       "    </tr>\n",
       "    <tr>\n",
       "      <th>1</th>\n",
       "      <td>engineered</td>\n",
       "      <td></td>\n",
       "      <td>http://purl.obolibrary.org/obo/GOLD_fee6b5a458...</td>\n",
       "      <td></td>\n",
       "      <td>{\"http://purl.obolibrary.org/obo/GOLD_a5f3791a...</td>\n",
       "    </tr>\n",
       "    <tr>\n",
       "      <th>7</th>\n",
       "      <td>environmental</td>\n",
       "      <td></td>\n",
       "      <td>http://purl.obolibrary.org/obo/GOLD_3bbfdace1e...</td>\n",
       "      <td></td>\n",
       "      <td>{\"http://purl.obolibrary.org/obo/GOLD_a5f3791a...</td>\n",
       "    </tr>\n",
       "    <tr>\n",
       "      <th>8786</th>\n",
       "      <td></td>\n",
       "      <td></td>\n",
       "      <td></td>\n",
       "      <td></td>\n",
       "      <td>{}</td>\n",
       "    </tr>\n",
       "  </tbody>\n",
       "</table>\n",
       "</div>"
      ],
      "text/plain": [
       "           label_path parent_label_path  \\\n",
       "0     host-associated                     \n",
       "1          engineered                     \n",
       "7       environmental                     \n",
       "8786                                      \n",
       "\n",
       "                                                    iri parent_iri  \\\n",
       "0     http://purl.obolibrary.org/obo/GOLD_daf7fb2e82...              \n",
       "1     http://purl.obolibrary.org/obo/GOLD_fee6b5a458...              \n",
       "7     http://purl.obolibrary.org/obo/GOLD_3bbfdace1e...              \n",
       "8786                                                                 \n",
       "\n",
       "                                             annotation  \n",
       "0     {\"http://purl.obolibrary.org/obo/GOLD_a5f3791a...  \n",
       "1     {\"http://purl.obolibrary.org/obo/GOLD_a5f3791a...  \n",
       "7     {\"http://purl.obolibrary.org/obo/GOLD_a5f3791a...  \n",
       "8786                                                 {}  "
      ]
     },
     "execution_count": 23,
     "metadata": {},
     "output_type": "execute_result"
    }
   ],
   "source": [
    "## examine those records w/o a parent iri\n",
    "ontdf[ontdf.parent_iri == '']"
   ]
  },
  {
   "cell_type": "markdown",
   "metadata": {},
   "source": [
    "## Use rdflib to build ontology from dataframe"
   ]
  },
  {
   "cell_type": "code",
   "execution_count": 24,
   "metadata": {},
   "outputs": [],
   "source": [
    "g = Graph() # instantiate graph"
   ]
  },
  {
   "cell_type": "markdown",
   "metadata": {},
   "source": [
    "### Create annotaiton properties for each of the columns (saved in the annotation dictionary)"
   ]
  },
  {
   "cell_type": "code",
   "execution_count": 25,
   "metadata": {},
   "outputs": [],
   "source": [
    "for k, v in annotation_dict.items():\n",
    "    ## note: the value is a dict with keys 'iri' and 'label'\n",
    "    g.add((URIRef(v['iri']), RDF.type, OWL.AnnotationProperty))\n",
    "    g.add((URIRef(v['iri']), RDFS.label, Literal(v['label'])))"
   ]
  },
  {
   "cell_type": "markdown",
   "metadata": {},
   "source": [
    "### Add each row from the ontology dataframe to graph"
   ]
  },
  {
   "cell_type": "code",
   "execution_count": 26,
   "metadata": {},
   "outputs": [],
   "source": [
    "for (ix, label_path, parent_label_path, iri, parent_iri, annotation) in ontdf.itertuples(): # ontdf.head(100).itertuples():\n",
    "    if len(iri) > 0:\n",
    "        ## add iri to graph\n",
    "        g.add((URIRef(iri), RDF.type, OWL.Class))\n",
    "        g.add((URIRef(iri), RDFS.label, Literal(label_path)))\n",
    "        \n",
    "        ## add iri annotations to graph (note: annotation is a json string of form iri:value)\n",
    "        ann = json.loads(annotation)\n",
    "        for k, v in ann.items():\n",
    "            g.add((URIRef(iri), URIRef(k), Literal(v)))\n",
    "    \n",
    "    if len(parent_iri) > 0:\n",
    "        g.add((URIRef(iri), RDFS.subClassOf, URIRef(parent_iri))) # add parent iri to graph"
   ]
  },
  {
   "cell_type": "code",
   "execution_count": 27,
   "metadata": {},
   "outputs": [],
   "source": [
    "## save graph (note: different formatats (e.g., turtle) are possible)\n",
    "g.serialize(destination='output/gold-dataset-translation.owl', format='xml')"
   ]
  },
  {
   "cell_type": "code",
   "execution_count": null,
   "metadata": {},
   "outputs": [],
   "source": []
  }
 ],
 "metadata": {
  "kernelspec": {
   "display_name": "Python 3",
   "language": "python",
   "name": "python3"
  },
  "language_info": {
   "codemirror_mode": {
    "name": "ipython",
    "version": 3
   },
   "file_extension": ".py",
   "mimetype": "text/x-python",
   "name": "python",
   "nbconvert_exporter": "python",
   "pygments_lexer": "ipython3",
   "version": "3.7.3"
  }
 },
 "nbformat": 4,
 "nbformat_minor": 2
}
