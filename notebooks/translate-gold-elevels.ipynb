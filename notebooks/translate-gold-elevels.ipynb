{
 "cells": [
  {
   "cell_type": "code",
   "execution_count": 123,
   "metadata": {},
   "outputs": [],
   "source": [
    "import pandas as pds\n",
    "from rdflib import Graph, RDFS, RDF, OWL, URIRef, Literal\n",
    "from hashlib import md5"
   ]
  },
  {
   "cell_type": "markdown",
   "metadata": {},
   "source": [
    "## Build dataframe containing enviromental level data values"
   ]
  },
  {
   "cell_type": "code",
   "execution_count": 2,
   "metadata": {},
   "outputs": [
    {
     "name": "stderr",
     "output_type": "stream",
     "text": [
      "/usr/local/anaconda3/lib/python3.7/site-packages/IPython/core/interactiveshell.py:3049: DtypeWarning: Columns (13,14,16,18,19,23,26,27,28,29,30,34,35,36,37,39,41,42,43,44,45,52,57,62,70,72,73,76,77,78,79,86,98,99,100,103,104,105,106,111,119,124,133,134,135,142,144,146,149,165,191,208,229,233,252,253,254) have mixed types. Specify dtype option on import or set low_memory=False.\n",
      "  interactivity=interactivity, compiler=compiler, result=result)\n"
     ]
    }
   ],
   "source": [
    "all_data_df = pds.read_csv(\"data/Biosample_all.tsv.gz\", sep=\"\\t\")"
   ]
  },
  {
   "cell_type": "code",
   "execution_count": 4,
   "metadata": {},
   "outputs": [],
   "source": [
    "elevels = ['ECOSYSTEM', 'ECOSYSTEM_CATEGORY', 'ECOSYSTEM_TYPE', 'ECOSYSTEM_SUBTYPE', 'SPECIFIC_ECOSYSTEM']\n",
    "elevelsdf = all_data_df[elevels]"
   ]
  },
  {
   "cell_type": "markdown",
   "metadata": {},
   "source": [
    "### clean data: \n",
    "* replace with nan with empyt string\n",
    "* make all values lowercase \n",
    "* trim spaces"
   ]
  },
  {
   "cell_type": "code",
   "execution_count": 16,
   "metadata": {},
   "outputs": [
    {
     "data": {
      "text/html": [
       "<div>\n",
       "<style scoped>\n",
       "    .dataframe tbody tr th:only-of-type {\n",
       "        vertical-align: middle;\n",
       "    }\n",
       "\n",
       "    .dataframe tbody tr th {\n",
       "        vertical-align: top;\n",
       "    }\n",
       "\n",
       "    .dataframe thead th {\n",
       "        text-align: right;\n",
       "    }\n",
       "</style>\n",
       "<table border=\"1\" class=\"dataframe\">\n",
       "  <thead>\n",
       "    <tr style=\"text-align: right;\">\n",
       "      <th></th>\n",
       "      <th>ECOSYSTEM</th>\n",
       "      <th>ECOSYSTEM_CATEGORY</th>\n",
       "      <th>ECOSYSTEM_TYPE</th>\n",
       "      <th>ECOSYSTEM_SUBTYPE</th>\n",
       "      <th>SPECIFIC_ECOSYSTEM</th>\n",
       "    </tr>\n",
       "  </thead>\n",
       "  <tbody>\n",
       "    <tr>\n",
       "      <th>0</th>\n",
       "      <td>host-associated</td>\n",
       "      <td>plants</td>\n",
       "      <td>phyllosphere</td>\n",
       "      <td>caulosphere</td>\n",
       "      <td></td>\n",
       "    </tr>\n",
       "    <tr>\n",
       "      <th>1</th>\n",
       "      <td>engineered</td>\n",
       "      <td>food production</td>\n",
       "      <td>dairy products</td>\n",
       "      <td></td>\n",
       "      <td></td>\n",
       "    </tr>\n",
       "    <tr>\n",
       "      <th>2</th>\n",
       "      <td>engineered</td>\n",
       "      <td>food production</td>\n",
       "      <td>dairy products</td>\n",
       "      <td></td>\n",
       "      <td></td>\n",
       "    </tr>\n",
       "    <tr>\n",
       "      <th>3</th>\n",
       "      <td>engineered</td>\n",
       "      <td>food production</td>\n",
       "      <td>dairy products</td>\n",
       "      <td></td>\n",
       "      <td></td>\n",
       "    </tr>\n",
       "    <tr>\n",
       "      <th>4</th>\n",
       "      <td>engineered</td>\n",
       "      <td>food production</td>\n",
       "      <td>dairy products</td>\n",
       "      <td></td>\n",
       "      <td></td>\n",
       "    </tr>\n",
       "  </tbody>\n",
       "</table>\n",
       "</div>"
      ],
      "text/plain": [
       "         ECOSYSTEM ECOSYSTEM_CATEGORY  ECOSYSTEM_TYPE ECOSYSTEM_SUBTYPE  \\\n",
       "0  host-associated             plants    phyllosphere       caulosphere   \n",
       "1       engineered    food production  dairy products                     \n",
       "2       engineered    food production  dairy products                     \n",
       "3       engineered    food production  dairy products                     \n",
       "4       engineered    food production  dairy products                     \n",
       "\n",
       "  SPECIFIC_ECOSYSTEM  \n",
       "0                     \n",
       "1                     \n",
       "2                     \n",
       "3                     \n",
       "4                     "
      ]
     },
     "execution_count": 16,
     "metadata": {},
     "output_type": "execute_result"
    }
   ],
   "source": [
    "elevelsdf.fillna(\"\", inplace=True)\n",
    "elevelsdf = elevelsdf.applymap(lambda x: x.lower().strip())    \n",
    "elevelsdf.head()"
   ]
  },
  {
   "cell_type": "code",
   "execution_count": 7,
   "metadata": {},
   "outputs": [
    {
     "data": {
      "text/plain": [
       "'ECOSYSTEM'"
      ]
     },
     "execution_count": 7,
     "metadata": {},
     "output_type": "execute_result"
    }
   ],
   "source": [
    "\", \".join(['ECOSYSTEM'])"
   ]
  },
  {
   "cell_type": "code",
   "execution_count": 83,
   "metadata": {},
   "outputs": [
    {
     "data": {
      "text/plain": [
       "' >  > '"
      ]
     },
     "execution_count": 83,
     "metadata": {},
     "output_type": "execute_result"
    }
   ],
   "source": [
    "\" > \".join([\"\", \"\", \"\"])"
   ]
  },
  {
   "cell_type": "code",
   "execution_count": 86,
   "metadata": {},
   "outputs": [
    {
     "data": {
      "text/plain": [
       "[]"
      ]
     },
     "execution_count": 86,
     "metadata": {},
     "output_type": "execute_result"
    }
   ],
   "source": [
    "l = [\"\", \"\", \"\"]\n",
    "\"\" in l\n",
    "l.remove(\"\")\n",
    "l = [e for e in l if e != \"\"]\n",
    "l"
   ]
  },
  {
   "cell_type": "markdown",
   "metadata": {},
   "source": [
    "## Build dataframe of unique label paths and their checksums\n",
    "#### For example: 'enviromental > aquatic > freshwater > sediment'"
   ]
  },
  {
   "cell_type": "code",
   "execution_count": 11,
   "metadata": {},
   "outputs": [
    {
     "data": {
      "text/plain": [
       "'foo'"
      ]
     },
     "execution_count": 11,
     "metadata": {},
     "output_type": "execute_result"
    }
   ],
   "source": [
    "\" FOO \".lower().strip()"
   ]
  },
  {
   "cell_type": "code",
   "execution_count": 20,
   "metadata": {},
   "outputs": [],
   "source": [
    "hash = md5(\"foo\".encode('utf-8'))"
   ]
  },
  {
   "cell_type": "code",
   "execution_count": 21,
   "metadata": {},
   "outputs": [
    {
     "data": {
      "text/plain": [
       "'acbd18db4cc2f85cedef654fccc4a4d8'"
      ]
     },
     "execution_count": 21,
     "metadata": {},
     "output_type": "execute_result"
    }
   ],
   "source": [
    "hash.hexdigest()"
   ]
  },
  {
   "cell_type": "code",
   "execution_count": 29,
   "metadata": {},
   "outputs": [
    {
     "name": "stdout",
     "output_type": "stream",
     "text": [
      "['ECOSYSTEM']\n",
      "['ECOSYSTEM', 'ECOSYSTEM_CATEGORY']\n",
      "['ECOSYSTEM', 'ECOSYSTEM_CATEGORY', 'ECOSYSTEM_TYPE']\n",
      "['ECOSYSTEM', 'ECOSYSTEM_CATEGORY', 'ECOSYSTEM_TYPE', 'ECOSYSTEM_SUBTYPE']\n",
      "['ECOSYSTEM', 'ECOSYSTEM_CATEGORY', 'ECOSYSTEM_TYPE', 'ECOSYSTEM_SUBTYPE', 'SPECIFIC_ECOSYSTEM']\n"
     ]
    }
   ],
   "source": [
    "for i in range(len(elevels)):\n",
    "    print(elevels[0:i + 1])"
   ]
  },
  {
   "cell_type": "code",
   "execution_count": 34,
   "metadata": {},
   "outputs": [
    {
     "name": "stdout",
     "output_type": "stream",
     "text": [
      "            ECOSYSTEM\n",
      "0     host-associated\n",
      "1          engineered\n",
      "7       environmental\n",
      "8786                 \n"
     ]
    }
   ],
   "source": [
    "for i in range(len(elevels)):\n",
    "    df = elevelsdf[elevels[0:i + 1]]\n",
    "    print(df.drop_duplicates())\n",
    "    break\n",
    "    print(len(df.drop_duplicates()))"
   ]
  },
  {
   "cell_type": "code",
   "execution_count": 106,
   "metadata": {},
   "outputs": [],
   "source": [
    "## helper functions for creating label path, hash, and iri\n",
    "def make_label_path(row, include_missing=False):\n",
    "    path_list = list(row)\n",
    "    temp = [e for e in path_list if e != \"\"] # remove all empty strings\n",
    "    if len(temp) > 0:\n",
    "        if include_missing:\n",
    "            ## if the value in the list an empty string (e.g., ['host-associated', 'plants', 'endosphere', ''])\n",
    "            ## this will put an \" > \" it (e.g., host-associated > plants > endosphere >)\n",
    "            return \" > \".join(path_list)\n",
    "        else:\n",
    "            ## this only retuns a path devoid of empty string\n",
    "            ## e.g, ['host-associated', 'plants', 'endosphere', ''] returns host-associated > plants > endosphere\n",
    "            return \" > \".join(temp)\n",
    "    else:\n",
    "        return \"\"\n",
    "\n",
    "def make_parent_label_path(label_path):\n",
    "    path_list = label_path.split(\" > \")\n",
    "    if len(path_list) > 1:\n",
    "        temp = path_list[0:-1]\n",
    "        return \" > \".join(temp)\n",
    "    else:\n",
    "        return \"\"\n",
    "    \n",
    "def make_hash(val):\n",
    "    if len(val) > 0:\n",
    "        hash = md5(val.encode('utf-8'))\n",
    "        return str(hash.hexdigest())\n",
    "    else:\n",
    "        return \"\"\n",
    "\n",
    "def make_iri(val, prefix=\"http://purl.obolibrary.org/obo/GOLD_\"):\n",
    "    if None != val and len(val) > 0:\n",
    "        hash = make_hash(val)\n",
    "        return f\"{prefix}{hash}\"\n",
    "    else:\n",
    "        return \"\""
   ]
  },
  {
   "cell_type": "code",
   "execution_count": 111,
   "metadata": {},
   "outputs": [],
   "source": [
    "ontdf = pds.DataFrame(columns=['label_path', 'parent_label_path', 'iri', 'parent_iri'])\n",
    "\n",
    "for i in range(len(elevels)):\n",
    "    df = elevelsdf[elevels[0:i + 1]].fillna(\"\").drop_duplicates()\n",
    "    df['label_path'] = df.apply(lambda row: make_label_path(row), axis=1)\n",
    "    df['parent_label_path'] = df.apply(lambda row: make_parent_label_path(row['label_path']), axis=1)\n",
    "    df['iri'] = df.apply(lambda row: make_iri(row['label_path']), axis=1)\n",
    "    df['parent_iri'] = df.apply(lambda row: make_iri(row['parent_label_path']), axis=1)\n",
    "    ontdf = ontdf.append(df[['label_path', 'parent_label_path', 'iri', 'parent_iri']]).drop_duplicates()"
   ]
  },
  {
   "cell_type": "code",
   "execution_count": 113,
   "metadata": {},
   "outputs": [],
   "source": [
    "## visually examine output\n",
    "# pds.set_option('max_rows', None)\n",
    "# pds.set_option('display.max_colwidth', 1000)\n",
    "# print(ontdf[['label_path', 'parent_label_path']])\n",
    "# print(len(ontdf))"
   ]
  },
  {
   "cell_type": "markdown",
   "metadata": {},
   "source": [
    "### TODO: write code to check output\n",
    "The visual output looks fine, but I would to check algorithmically."
   ]
  },
  {
   "cell_type": "markdown",
   "metadata": {},
   "source": [
    "## Use rdflib to build ontology from dataframe"
   ]
  },
  {
   "cell_type": "code",
   "execution_count": 125,
   "metadata": {},
   "outputs": [],
   "source": [
    "g = Graph()\n",
    "\n",
    "for (ix, label_path, parent_label_path, iri, parent_iri) in ontdf.itertuples(): # ontdf.head(100).itertuples():\n",
    "    if len(iri) > 0:\n",
    "        g.add((URIRef(iri), RDF.type, OWL.Class))\n",
    "        g.add((URIRef(iri), RDFS.label, Literal(label_path)))\n",
    "    \n",
    "    if len(parent_iri) > 0:\n",
    "        g.add((URIRef(iri), RDFS.subClassOf, URIRef(parent_iri)))\n"
   ]
  },
  {
   "cell_type": "code",
   "execution_count": 128,
   "metadata": {},
   "outputs": [],
   "source": [
    "g.serialize(destination='output/gold-dataset-translation.owl', format='xml')"
   ]
  },
  {
   "cell_type": "code",
   "execution_count": null,
   "metadata": {},
   "outputs": [],
   "source": []
  }
 ],
 "metadata": {
  "kernelspec": {
   "display_name": "Python 3",
   "language": "python",
   "name": "python3"
  },
  "language_info": {
   "codemirror_mode": {
    "name": "ipython",
    "version": 3
   },
   "file_extension": ".py",
   "mimetype": "text/x-python",
   "name": "python",
   "nbconvert_exporter": "python",
   "pygments_lexer": "ipython3",
   "version": "3.7.3"
  }
 },
 "nbformat": 4,
 "nbformat_minor": 2
}
